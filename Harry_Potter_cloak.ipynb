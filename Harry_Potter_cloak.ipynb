{
 "cells": [
  {
   "cell_type": "markdown",
   "metadata": {},
   "source": [
    "<h1>Harry Potter Cloak</h1>"
   ]
  },
  {
   "cell_type": "code",
   "execution_count": 14,
   "metadata": {},
   "outputs": [],
   "source": [
    "import cv2\n",
    "import numpy"
   ]
  },
  {
   "cell_type": "code",
   "execution_count": 15,
   "metadata": {},
   "outputs": [],
   "source": [
    "def hello(x):\n",
    "    print('')"
   ]
  },
  {
   "cell_type": "code",
   "execution_count": 16,
   "metadata": {},
   "outputs": [],
   "source": [
    "capture=cv2.VideoCapture(0) #initialisation of the camera\n",
    "bars=cv2.namedWindow(\"bars\") #6 bars as color will slide down"
   ]
  },
  {
   "cell_type": "code",
   "execution_count": 17,
   "metadata": {},
   "outputs": [],
   "source": [
    "#trackbar creates a trackbar for color adjustment\n",
    "cv2.createTrackbar('upper_hue','bars',110,180,hello)\n",
    "cv2.createTrackbar('upper-saturation','bars',255,255,hello)\n",
    "cv2.createTrackbar('upper_value','bars',255,255,hello)\n",
    "cv2.createTrackbar('lower_hue','bars',68,180,hello)\n",
    "cv2.createTrackbar('lower_saturation','bars',55,255,hello)\n",
    "cv2.createTrackbar('lower_value','bars',54,255,hello)"
   ]
  },
  {
   "cell_type": "code",
   "execution_count": 18,
   "metadata": {},
   "outputs": [],
   "source": [
    "#Infinite loop to capture the initial frame for creating background\n",
    "while(True):\n",
    "    cv2.waitKey(1000)\n",
    "    ret,init_frame=capture.read()\n",
    "    if(ret):\n",
    "        break;    \n",
    "#As soon as we will get the initial frame our ret value will be true and the loop will break\n"
   ]
  },
  {
   "cell_type": "code",
   "execution_count": 19,
   "metadata": {},
   "outputs": [],
   "source": [
    "while(True):\n",
    "    #capture another frame\n",
    "    ret,frame=capture.read()\n",
    "    inspect=cv2.cvtColor(frame,cv2.COLOR_BGR2HSV)\n",
    "    \n",
    "    #splitting the captured colored frame i.e HSV values for maskinh the cloak\n",
    "    upper_hue=cv2.getTrackbarPos('upper_hue','bars')\n",
    "    upper_saturation=cv2.getTrackbarPos('upper_saturation','bars')\n",
    "    upper_value=cv2.getTrackbarPos('upper_value','bars')\n",
    "    lower_hue=cv2.getTrackbarPos('lower_hue','bars')\n",
    "    lower_saturation=cv2.getTrackbarPos('lower_saturation','bars')\n",
    "    lower_value=cv2.getTrackbarPos('lower_value','bars')\n",
    "    #for webcam with low mega pixel , we need to erase the noise and that's why we dilate our captured frame\n",
    "    kernel=numpy.ones((3,3),numpy.uint8)\n",
    "    \n",
    "    upper_hsv=numpy.array([lower_hue,upper_saturation,upper_value])\n",
    "    lower_hsv=numpy.array([lower_hue,lower_saturation,lower_value])\n",
    "    \n",
    "    mask=cv2.inRange(inspect,lower_hsv,upper_hsv)\n",
    "    mask=cv2.medianBlur(mask,3)\n",
    "    mask_inv=255-mask\n",
    "    mask=cv2.dilate(mask,kernel,5)\n",
    "    \n",
    "    #merging the frames\n",
    "    b=frame[:,:,0]\n",
    "    g=frame[:,:,1]\n",
    "    r=frame[:,:,2]\n",
    "    b=cv2.bitwise_and(mask_inv,b)\n",
    "    g=cv2.bitwise_and(mask_inv,g)\n",
    "    r=cv2.bitwise_and(mask_inv,r)\n",
    "    frame_inv=cv2.merge((b,g,r))\n",
    "    \n",
    "    b=init_frame[:,:,0]\n",
    "    g=init_frame[:,:,1]\n",
    "    r=init_frame[:,:,2]\n",
    "    b=cv2.bitwise_and(mask,b)\n",
    "    g=cv2.bitwise_and(mask,g)\n",
    "    r=cv2.bitwise_and(mask,r)\n",
    "    blanket_area=cv2.merge((b,g,r))\n",
    "    \n",
    "    final=cv2.bitwise_or(frame_inv,blanket_area)\n",
    "    \n",
    "    cv2.imshow(\"Harry's Cloak\",final)\n",
    "    \n",
    "    if(cv2.waitKey(3)==ord('q')):\n",
    "        break;\n",
    "cv2.destroyAllWindows()\n",
    "capture.release()\n",
    "        \n",
    "    \n",
    "    "
   ]
  },
  {
   "cell_type": "code",
   "execution_count": null,
   "metadata": {},
   "outputs": [],
   "source": []
  }
 ],
 "metadata": {
  "kernelspec": {
   "display_name": "Python 3.8.3 64-bit",
   "language": "python",
   "name": "python38364bitb5d90e84d5814935ae5436bad6a4e9cc"
  },
  "language_info": {
   "codemirror_mode": {
    "name": "ipython",
    "version": 3
   },
   "file_extension": ".py",
   "mimetype": "text/x-python",
   "name": "python",
   "nbconvert_exporter": "python",
   "pygments_lexer": "ipython3",
   "version": "3.8.3"
  }
 },
 "nbformat": 4,
 "nbformat_minor": 4
}
